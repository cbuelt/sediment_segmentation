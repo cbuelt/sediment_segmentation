{
  "nbformat": 4,
  "nbformat_minor": 5,
  "metadata": {
    "kernelspec": {
      "display_name": "Python 3 (ipykernel)",
      "language": "python",
      "name": "python3"
    },
    "language_info": {
      "codemirror_mode": {
        "name": "ipython",
        "version": 3
      },
      "file_extension": ".py",
      "mimetype": "text/x-python",
      "name": "python",
      "nbconvert_exporter": "python",
      "pygments_lexer": "ipython3",
      "version": "3.8.8"
    },
    "toc-autonumbering": true,
    "colab": {
      "provenance": [],
      "collapsed_sections": []
    },
    "accelerator": "GPU"
  },
  "cells": [
    {
      "cell_type": "markdown",
      "metadata": {
        "id": "3816db68"
      },
      "source": [
        "# Load data and prework"
      ],
      "id": "3816db68"
    },
    {
      "cell_type": "code",
      "metadata": {
        "id": "d3f45692"
      },
      "source": [
        "import pandas as pd\n",
        "import numpy as np\n",
        "import os\n",
        "import cv2\n",
        "import torch\n",
        "from torch import nn\n",
        "from torchvision import transforms\n",
        "import albumentations as A\n",
        "from tqdm import tqdm\n",
        "from torch.utils.data import DataLoader\n",
        "from torch.utils.data import random_split\n",
        "import matplotlib.pyplot as plt\n",
        "from torch.utils.tensorboard import SummaryWriter\n",
        "import torchvision\n",
        "import torch.nn.functional as F\n",
        "#!pip install -U git+https://github.com/albumentations-team/albumentations"
      ],
      "id": "d3f45692",
      "execution_count": 1,
      "outputs": []
    },
    {
      "cell_type": "markdown",
      "source": [
        "# Pre-defined functions\n",
        "\n",
        "These functions were supplied as part of the challenge."
      ],
      "metadata": {
        "id": "1WYWsTd8wXim"
      },
      "id": "1WYWsTd8wXim"
    },
    {
      "cell_type": "code",
      "metadata": {
        "id": "997be0f2"
      },
      "source": [
        "def rle2mask(mask_rle, shape):\n",
        "    \"\"\"\n",
        "    mask_rle: run-length as string formated (start length)ы\n",
        "    shape: (width,height) of array to return\n",
        "    Returns numpy array, 1 - mask, 0 - background\n",
        "    \"\"\"\n",
        "    if mask_rle != mask_rle:\n",
        "        return np.zeros(shape)\n",
        "    elif mask_rle == '':\n",
        "        return np.zeros(shape)\n",
        "\n",
        "    s = mask_rle.split()\n",
        "    starts, lengths = [np.asarray(x, dtype=int) for x in (s[0:][::2], s[1:][::2])]\n",
        "    starts -= 1\n",
        "    ends = starts + lengths\n",
        "    img = np.zeros(shape[0]*shape[1], dtype=np.uint8)\n",
        "    for lo, hi in zip(starts, ends):\n",
        "        img[lo:hi] = 1\n",
        "    return img.reshape(shape).T\n",
        "\n",
        "def mask2rle(img):\n",
        "    '''\n",
        "    img: numpy array, 1 - mask, 0 - background\n",
        "    Returns run length as string formated\n",
        "    '''\n",
        "    pixels = img.flatten()\n",
        "    pixels = np.concatenate([[0], pixels, [0]])\n",
        "    runs = np.where(pixels[1:] != pixels[:-1])[0] + 1\n",
        "    runs[1::2] -= runs[::2]\n",
        "    return ' '.join(str(x) for x in runs)\n",
        "\n",
        "def out2rle(outputs):\n",
        "    rles = []\n",
        "    \n",
        "    smooth = 1e-15\n",
        "    try:\n",
        "        prediction = outputs.detach().cpu().numpy()\n",
        "    except:\n",
        "        prediction = outputs\n",
        "    for j, sample in enumerate(prediction):\n",
        "        for val in range(0, 7):\n",
        "            ch_pred = sample[val]\n",
        "            rles.append(mask2rle(ch_pred.T > 0.5))\n",
        "    return rles"
      ],
      "id": "997be0f2",
      "execution_count": 2,
      "outputs": []
    },
    {
      "cell_type": "code",
      "metadata": {
        "id": "826d4bbc"
      },
      "source": [
        "class Dataset():\n",
        "    def __init__(self, image_dir, train_meta, transform=None, train=True):\n",
        "        self.image_dir = image_dir\n",
        "        self.image_names = os.listdir(self.image_dir)\n",
        "        self.train_meta = pd.read_csv(train_meta).drop_duplicates(['ImageId', 'ClassId']) if train_meta is not None else None\n",
        "        self.transform = transform\n",
        "        \n",
        "        self.train = train\n",
        "\n",
        "    def __getitem__(self, index):\n",
        "        img_name = self.image_names[index]# ['ImageId']\n",
        "        path = os.path.join(self.image_dir, img_name)\n",
        "\n",
        "        img = cv2.imread(path)\n",
        "        img_shape = (img.shape[0], img.shape[1])\n",
        "        ce_mask = [\n",
        "            (1) * rle2mask(rle, shape=(img.shape[1], img.shape[0]))[:, :, None] \\\n",
        "                for i, rle in enumerate(self.train_meta[self.train_meta['ImageId']==img_name]['EncodedPixels'])\n",
        "        ] if self.train else None\n",
        "        ce_mask = np.concatenate(ce_mask, -1) if self.train else None# np.sum(ce_mask, axis=0, dtype=np.float32)[:, :, None]\n",
        "        if self.transform is not None:\n",
        "            if self.train:\n",
        "                img = self.transform(\n",
        "                    image= (img),\n",
        "                    mask= (ce_mask)\n",
        "                )\n",
        "            else:\n",
        "                img = self.transform(\n",
        "                    image= (img)\n",
        "                )\n",
        "        \n",
        "        result = {\n",
        "            'image_shape': torch.tensor(img_shape),\n",
        "            'image_name': img_name,\n",
        "            'image': torch.tensor(img['image']).transpose(-1, 0).transpose(-1, -2).float(), \n",
        "            'mask': torch.tensor(img['mask']).transpose(-1, 0).transpose(-1, -2).float() if self.train else []\n",
        "        }\n",
        "        \n",
        "        return result\n",
        "    \n",
        "    def __len__(self, ):\n",
        "        return len(self.image_names)"
      ],
      "id": "826d4bbc",
      "execution_count": 3,
      "outputs": []
    },
    {
      "cell_type": "markdown",
      "metadata": {
        "id": "7bb2df7d"
      },
      "source": [
        "# Preprocessing\n",
        "\n",
        "Preprocessing the image data and applying image transformations using the albumentations library. Adding different transformations and distortions to the images led to better results.\n",
        "\n"
      ],
      "id": "7bb2df7d"
    },
    {
      "cell_type": "code",
      "metadata": {
        "id": "d1d62ee1"
      },
      "source": [
        "img_size = 384\n",
        "\n",
        "train_transforms = A.Compose([\n",
        "    A.PadIfNeeded(img_size, img_size),\n",
        "    A.RandomCrop(img_size, img_size),\n",
        "    A.OneOf([        \n",
        "        A.RandomRotate90(p=0.5),\n",
        "        A.Transpose(p=0.5),\n",
        "        A.VerticalFlip(p=0.5),\n",
        "    ]),\n",
        "    A.OneOf([\n",
        "        A.ElasticTransform(p=0.3, alpha=120, sigma=120 * 0.05, alpha_affine=120 * 0.03),\n",
        "        A.GridDistortion(p=0.3),\n",
        "        A.OpticalDistortion(distort_limit=1, shift_limit=0.5, p=0.6),        \n",
        "        ], p=0.4),\n",
        "    A.CLAHE(p=0.4),\n",
        "    A.RandomBrightnessContrast(p=0.4),    \n",
        "    A.RandomGamma(p=0.4),\n",
        "    A.GridDropout(p=0.2),\n",
        "    A.Normalize(\n",
        "        mean=(0.502, 0.502, 0.502),\n",
        "        std=(0.09, 0.09, 0.09)),\n",
        "])\n",
        "\n",
        "test_transforms = A.Compose([\n",
        "    A.PadIfNeeded(384, 384),\n",
        "    A.Resize(384, 384),\n",
        "    A.Normalize(\n",
        "        mean=(0.502, 0.502, 0.502),\n",
        "        std=(0.09, 0.09, 0.09)),\n",
        "])"
      ],
      "id": "d1d62ee1",
      "execution_count": 5,
      "outputs": []
    },
    {
      "cell_type": "code",
      "metadata": {
        "id": "be321ee1"
      },
      "source": [
        "train_val_dataset = Dataset(\n",
        "    image_dir='', \n",
        "    train_meta='',\n",
        "    transform=train_transforms\n",
        ")"
      ],
      "id": "be321ee1",
      "execution_count": 6,
      "outputs": []
    },
    {
      "cell_type": "markdown",
      "metadata": {
        "tags": [],
        "id": "c26e2e1c"
      },
      "source": [
        "# Model\n",
        "The model is a full fledged U-Net. Different experiments with hyperparameters, Dropout and Batch-/Layernorm led to the model as it is now."
      ],
      "id": "c26e2e1c"
    },
    {
      "cell_type": "code",
      "metadata": {
        "id": "609c0d0b"
      },
      "source": [
        "class UNet(nn.Module):\n",
        "    #Build Building Blocks of model\n",
        "    def encoder_block(self, in_channels, out_channels, kernel_size = 3):\n",
        "        block = nn.Sequential(\n",
        "            nn.Conv2d(kernel_size=kernel_size, in_channels = in_channels, out_channels = out_channels, padding = 'same'),\n",
        "            nn.ReLU(),\n",
        "            nn.BatchNorm2d(out_channels),\n",
        "            nn.Conv2d(kernel_size=kernel_size, in_channels = out_channels, out_channels = out_channels, padding = 'same'),\n",
        "            nn.ReLU(),\n",
        "            nn.BatchNorm2d(out_channels)\n",
        "        )\n",
        "        return block\n",
        "    \n",
        "    def max_pool_dropout(self, kernel_size = 2, dropout_rate = 0.1):\n",
        "        block = nn.Sequential(\n",
        "            nn.MaxPool2d(kernel_size=2),\n",
        "            nn.Dropout(dropout_rate)\n",
        "        )\n",
        "        return block\n",
        "    \n",
        "    def decoder_block(self, in_channels, mid_channel, out_channels, kernel_size=3, dropout_rate=0.1):\n",
        "        block = nn.Sequential(\n",
        "            nn.Dropout(dropout_rate),\n",
        "            nn.Conv2d(kernel_size=kernel_size, in_channels = in_channels, out_channels = mid_channel, padding = \"same\"),\n",
        "            nn.ReLU(),\n",
        "            nn.BatchNorm2d(mid_channel),\n",
        "            nn.Conv2d(kernel_size=kernel_size, in_channels = mid_channel, out_channels = mid_channel, padding = \"same\"),\n",
        "            nn.ReLU(),\n",
        "            nn.BatchNorm2d(mid_channel),\n",
        "            nn.ConvTranspose2d(in_channels = mid_channel, out_channels = out_channels, kernel_size=3,\n",
        "                              stride = 2, padding = 1, output_padding = 1)        \n",
        "        )\n",
        "        return block\n",
        "    \n",
        "    def final_block(self, in_channels, mid_channel, out_channels, kernel_size=3, dropout_rate=0.1):\n",
        "        block=nn.Sequential(\n",
        "            nn.Dropout(dropout_rate),\n",
        "            nn.Conv2d(kernel_size=kernel_size, in_channels = in_channels, out_channels = mid_channel, padding=\"same\"),\n",
        "            nn.ReLU(),\n",
        "            nn.BatchNorm2d(mid_channel),\n",
        "            nn.Conv2d(kernel_size=kernel_size, in_channels = mid_channel, out_channels = mid_channel, padding=\"same\"),\n",
        "            nn.ReLU(),\n",
        "            nn.BatchNorm2d(mid_channel),\n",
        "            nn.Conv2d(kernel_size=kernel_size, in_channels=mid_channel, out_channels=out_channels, padding=1),\n",
        "            nn.ReLU(),\n",
        "            nn.BatchNorm2d(out_channels),\n",
        "        )\n",
        "        return block\n",
        "    \n",
        "    #Initialize Model\n",
        "    def __init__(self, in_channel, out_channel, dropout_rate):\n",
        "        super(UNet, self).__init__()\n",
        "        #Parameters\n",
        "        self.dropout_rate = dropout_rate\n",
        "               \n",
        "        #Encoder part\n",
        "        self.conv_encoder1 = self.encoder_block(in_channels = in_channel, out_channels = 64)\n",
        "        self.encoder_pool1 = self.max_pool_dropout(dropout_rate = self.dropout_rate)\n",
        "        self.conv_encoder2 = self.encoder_block(64, 128)\n",
        "        self.encoder_pool2 = self.max_pool_dropout(dropout_rate = self.dropout_rate)\n",
        "        self.conv_encoder3 = self.encoder_block(128,256)\n",
        "        self.encoder_pool3 = self.max_pool_dropout(dropout_rate = self.dropout_rate)\n",
        "        self.conv_encoder4 = self.encoder_block(256,512)\n",
        "        self.encoder_pool4 = self.max_pool_dropout(dropout_rate = self.dropout_rate)\n",
        "        \n",
        "        #Middle part\n",
        "        self.middle_part = nn.Sequential(\n",
        "            nn.Conv2d(kernel_size = 3, in_channels = 512, out_channels = 1024, padding=\"same\"),\n",
        "            nn.ReLU(),\n",
        "            nn.BatchNorm2d(1024),\n",
        "            nn.Conv2d(kernel_size = 3, in_channels = 1024, out_channels = 1024, padding=\"same\"),\n",
        "            nn.ReLU(),\n",
        "            nn.BatchNorm2d(1024),\n",
        "            nn.ConvTranspose2d(in_channels = 1024, out_channels = 512, kernel_size = 3,\n",
        "                              stride = 2, padding = 1, output_padding = 1)        \n",
        "        )\n",
        "        \n",
        "        #Decoder part\n",
        "        self.conv_decoder3 = self.decoder_block(1024,512,256)\n",
        "        self.conv_decoder2 = self.decoder_block(512,256,128)\n",
        "        self.conv_decoder1 = self.decoder_block(256,128,64)\n",
        "        self.final_layer = self.final_block(128,64,out_channel)\n",
        "        \n",
        "        \n",
        "    #Forward pass\n",
        "    def forward(self, x):\n",
        "        #Encoder\n",
        "        encoder_block1 = self.conv_encoder1(x)\n",
        "        encoder_pool1 = self.encoder_pool1(encoder_block1)\n",
        "        encoder_block2 = self.conv_encoder2(encoder_pool1)\n",
        "        encoder_pool2 = self.encoder_pool2(encoder_block2)\n",
        "        encoder_block3 = self.conv_encoder3(encoder_pool2)\n",
        "        encoder_pool3 = self.encoder_pool3(encoder_block3)\n",
        "        encoder_block4 = self.conv_encoder4(encoder_pool3)\n",
        "        encoder_pool4 = self.encoder_pool4(encoder_block4)\n",
        "        #Middle part\n",
        "        middle_part = self.middle_part(encoder_pool4)\n",
        "        #Decoder\n",
        "        concat1 = torch.cat((middle_part, encoder_block4), dim = 1)\n",
        "        decoder_block3 = self.conv_decoder3(concat1)\n",
        "        concat2 = torch.cat((decoder_block3, encoder_block3), dim = 1)\n",
        "        decoder_block2 = self.conv_decoder2(concat2)\n",
        "        concat3 = torch.cat((decoder_block2, encoder_block2), dim = 1)\n",
        "        decoder_block1 = self.conv_decoder1(concat3)\n",
        "        concat4 = torch.cat((decoder_block1, encoder_block1), dim = 1)\n",
        "        #Final layer\n",
        "        final_layer = self.final_layer(concat4)\n",
        "        return final_layer"
      ],
      "id": "609c0d0b",
      "execution_count": 7,
      "outputs": []
    },
    {
      "cell_type": "markdown",
      "metadata": {
        "id": "48a6b3ab-1f5d-4e60-a791-c679862071ce"
      },
      "source": [
        "## Define Loss\n",
        " \n",
        "For my loss function I use a linear combination of the Dice- and the Jaccard loss."
      ],
      "id": "48a6b3ab-1f5d-4e60-a791-c679862071ce"
    },
    {
      "cell_type": "code",
      "metadata": {
        "id": "68bf13cc-a473-43a5-8d3b-80878e65bccd"
      },
      "source": [
        "class DiceLoss(torch.nn.Module):\n",
        "    def __init__(self, device):\n",
        "        super(DiceLoss, self).__init__()\n",
        "    \n",
        "    def forward(self, outputs, masks):\n",
        "        smooth = 1e-15\n",
        "        prediction = outputs.softmax(dim=1)\n",
        "\n",
        "        dice_loss = None\n",
        "\n",
        "        for val in range(0, 7):\n",
        "            ch_pred = prediction[:, val]\n",
        "            # ch_pred = ch_pred / (ch_pred + 1e-10)\n",
        "\n",
        "            intersection = torch.sum(ch_pred * masks[:, val], dim=(1,2))\n",
        "            union = torch.sum(ch_pred, dim=(1,2)) + torch.sum(masks[:, val], dim=(1,2))      \n",
        "            dice_part = (1 - (2 * intersection + smooth) / (union + smooth)).abs()\n",
        "            dice_loss = dice_part if dice_loss is None else dice_loss + dice_part\n",
        "            \n",
        "        return dice_loss / 7"
      ],
      "id": "68bf13cc-a473-43a5-8d3b-80878e65bccd",
      "execution_count": 8,
      "outputs": []
    },
    {
      "cell_type": "code",
      "metadata": {
        "id": "6fce12e6-e1c7-402e-8004-bfb2e0118802"
      },
      "source": [
        "class JaccardLoss(nn.Module):\n",
        "    def __init__(self, weight=None, size_average=True):\n",
        "        super(JaccardLoss, self).__init__()\n",
        "\n",
        "    def forward(self, inputs, targets, smooth=1):\n",
        "        \n",
        "        #comment out if your model contains a sigmoid or equivalent activation layer\n",
        "        inputs = torch.sigmoid(inputs)       \n",
        "        \n",
        "        #flatten label and prediction tensors\n",
        "        inputs = inputs.view(-1)\n",
        "        targets = targets.view(-1)\n",
        "        \n",
        "        #intersection is equivalent to True Positive count\n",
        "        #union is the mutually inclusive area of all labels & predictions \n",
        "        intersection = (inputs * targets).sum()\n",
        "        total = (inputs + targets).sum()\n",
        "        union = total - intersection \n",
        "        \n",
        "        IoU = (intersection + smooth)/(union + smooth)\n",
        "                \n",
        "        return 1 - IoU"
      ],
      "id": "6fce12e6-e1c7-402e-8004-bfb2e0118802",
      "execution_count": 9,
      "outputs": []
    },
    {
      "cell_type": "markdown",
      "metadata": {
        "id": "8633e66e"
      },
      "source": [
        "# Training process"
      ],
      "id": "8633e66e"
    },
    {
      "cell_type": "code",
      "metadata": {
        "id": "d0f74f9b-8f6c-43f4-b8dc-4ae020b91a5a"
      },
      "source": [
        "#Define training parameters\n",
        "val_split = 0.1\n",
        "batch_size = 8\n",
        "batch_size_test = 6\n",
        "learning_rate = 0.0005\n",
        "dropout_rate = 0.1\n",
        "epochs = 10"
      ],
      "id": "d0f74f9b-8f6c-43f4-b8dc-4ae020b91a5a",
      "execution_count": 10,
      "outputs": []
    },
    {
      "cell_type": "markdown",
      "metadata": {
        "id": "034b63cd-9cbb-44ff-bf86-bc2910244d0e"
      },
      "source": [
        "## Validation split and data Loaders"
      ],
      "id": "034b63cd-9cbb-44ff-bf86-bc2910244d0e"
    },
    {
      "cell_type": "code",
      "metadata": {
        "id": "de684c59-6db4-4f97-a9d6-5f8d62cdf764"
      },
      "source": [
        "val_length = int(np.round(len(train_val_dataset)*val_split))\n",
        "val_dataset, train_dataset = random_split(train_val_dataset, lengths = [val_length, len(train_val_dataset)-val_length], generator=torch.Generator().manual_seed(42))"
      ],
      "id": "de684c59-6db4-4f97-a9d6-5f8d62cdf764",
      "execution_count": 11,
      "outputs": []
    },
    {
      "cell_type": "code",
      "metadata": {
        "id": "e232009a-fb90-4948-85c3-d95392b14d42"
      },
      "source": [
        "train_loader = DataLoader(\n",
        "    dataset=train_dataset,\n",
        "    batch_size=batch_size, \n",
        "    shuffle=True, \n",
        ")\n",
        "\n",
        "val_loader = DataLoader(\n",
        "    dataset=val_dataset,\n",
        "    batch_size=batch_size, \n",
        "    shuffle=False, \n",
        ")"
      ],
      "id": "e232009a-fb90-4948-85c3-d95392b14d42",
      "execution_count": 12,
      "outputs": []
    },
    {
      "cell_type": "markdown",
      "metadata": {
        "id": "9eae1dbf-c512-4e8b-942b-a4a26b9a6160"
      },
      "source": [
        "## Define Optimizer and Hyperparameters"
      ],
      "id": "9eae1dbf-c512-4e8b-942b-a4a26b9a6160"
    },
    {
      "cell_type": "code",
      "metadata": {
        "id": "7a55352f-7ca5-4666-b40d-747272fc46e7"
      },
      "source": [
        "unet = UNet(in_channel = 3, out_channel = 7, dropout_rate = dropout_rate).cuda()"
      ],
      "id": "7a55352f-7ca5-4666-b40d-747272fc46e7",
      "execution_count": 13,
      "outputs": []
    },
    {
      "cell_type": "code",
      "metadata": {
        "id": "2023645d-8dda-4c0b-b6e0-019b1431a58d"
      },
      "source": [
        "opt = torch.optim.AdamW(unet.parameters(), lr = learning_rate)\n",
        "loss_f = torch.nn.BCEWithLogitsLoss(pos_weight=torch.tensor([1.0, 1.0, 1.0, 1.0, 1.0, 1.0, 1.0]).cuda().reshape(1, 7, 1, 1))\n",
        "loss_j = JaccardLoss('cuda:0')\n",
        "loss_d = DiceLoss('cuda:0')\n",
        "\n",
        "scheduler = torch.optim.lr_scheduler.ReduceLROnPlateau(opt, 'min', patience = 5, verbose = True)"
      ],
      "id": "2023645d-8dda-4c0b-b6e0-019b1431a58d",
      "execution_count": 14,
      "outputs": []
    },
    {
      "cell_type": "markdown",
      "metadata": {
        "tags": [],
        "id": "c1cfb998-84d1-402f-8857-cef4b9c5ea4e"
      },
      "source": [
        "## Actual training process"
      ],
      "id": "c1cfb998-84d1-402f-8857-cef4b9c5ea4e"
    },
    {
      "cell_type": "code",
      "metadata": {
        "colab": {
          "base_uri": "https://localhost:8080/"
        },
        "id": "c7542cf3-d955-4619-b404-eae639b3679d",
        "outputId": "cd1e8367-b64c-47cb-eea3-59611f7259c2"
      },
      "source": [
        "model = \"unet\"\n",
        "try:    \n",
        "    checkpoint_path = \"\".format(model)\n",
        "    checkpoint = torch.load(checkpoint_path)\n",
        "    unet.load_state_dict(checkpoint['model_state_dict'])\n",
        "    opt.load_state_dict(checkpoint['optimizer_state_dict'])\n",
        "    last_epoch = checkpoint['epoch']+1\n",
        "    loss = checkpoint['loss']\n",
        "    print(\"Model restored\")\n",
        "except:\n",
        "    last_epoch = 0\n",
        "    print(\"No Model loaded\")"
      ],
      "id": "c7542cf3-d955-4619-b404-eae639b3679d",
      "execution_count": 15,
      "outputs": [
        {
          "output_type": "stream",
          "name": "stdout",
          "text": [
            "Model restored\n"
          ]
        }
      ]
    },
    {
      "cell_type": "code",
      "metadata": {
        "id": "7f0613ee-023f-45d1-939e-ed9916d60ae9"
      },
      "source": [
        "running_loss = 0\n",
        "\n",
        "for epoch in range(last_epoch+1, last_epoch+epochs+1):\n",
        "    #Training\n",
        "    unet.train()\n",
        "    for i, sample in enumerate(train_loader):\n",
        "        opt.zero_grad()\n",
        "        predict = unet(sample[\"image\"].cuda().detach())\n",
        "        train_loss = 0.4*loss_f(predict, sample[\"mask\"].cuda().detach()) + 0.6*loss_j(predict, sample[\"mask\"].cuda().detach()).mean()\n",
        "        train_loss.backward()        \n",
        "        opt.step()        \n",
        "        \n",
        "        #Writing to tensorboard\n",
        "        running_loss += train_loss.item()\n",
        "        if i % 30 == 29:            \n",
        "            writer.add_scalar('training loss',\n",
        "                running_loss / 30,\n",
        "                epoch * len(train_loader) + i)\n",
        "        running_loss = 0\n",
        "            \n",
        "    #Validation\n",
        "    unet.eval()\n",
        "    for i, sample in enumerate(val_loader):\n",
        "        with torch.no_grad():\n",
        "            predict = unet(sample[\"image\"].cuda().detach())\n",
        "        val_loss = loss_d(predict, sample[\"mask\"].cuda().detach()).mean()\n",
        "        \n",
        "    #Write to learning rate scheduler\n",
        "    scheduler.step(val_loss)\n",
        "        \n",
        "    #Writing to tensorboard      \n",
        "    writer.add_scalar('validation loss', val_loss, (epoch+1) * len(train_loader))\n",
        "    \n",
        "    #Save image prediction\n",
        "    writer.add_figure('predictions vs. actuals',\n",
        "                            get_images(sample,predict),\n",
        "                            global_step = (epoch+1) * len(train_loader))\n",
        "    \n",
        "    #Print loss\n",
        "    print('Epoch: {} \\t Train_Loss: {} \\t Val_Loss: {}'.format((epoch+1), round(train_loss.item(),4), round(val_loss.item(),4)))\n",
        "    \n",
        "    #Save model every 5th epoch\n",
        "    if (epoch+1)%5==0:\n",
        "        torch.save({\n",
        "                'epoch': epoch,\n",
        "                'model_state_dict': unet.state_dict(),\n",
        "                'optimizer_state_dict': opt.state_dict(),\n",
        "                'loss': val_loss,\n",
        "                }, checkpoint_path)\n",
        "        print(\"Checkpoint saved\")"
      ],
      "id": "7f0613ee-023f-45d1-939e-ed9916d60ae9",
      "execution_count": null,
      "outputs": []
    },
    {
      "cell_type": "code",
      "metadata": {
        "id": "00ad5c9f-1463-4027-937c-ea934d1f72b2"
      },
      "source": [
        "torch.save({\n",
        "        'epoch': epoch,\n",
        "        'model_state_dict': unet.state_dict(),\n",
        "        'optimizer_state_dict': opt.state_dict(),\n",
        "        'loss': val_loss,\n",
        "        }, checkpoint_path)"
      ],
      "id": "00ad5c9f-1463-4027-937c-ea934d1f72b2",
      "execution_count": null,
      "outputs": []
    },
    {
      "cell_type": "markdown",
      "source": [
        "# Results\n",
        "\n",
        "Prediction of validation images"
      ],
      "metadata": {
        "id": "6dE89XMtxkZD"
      },
      "id": "6dE89XMtxkZD"
    },
    {
      "cell_type": "code",
      "metadata": {
        "id": "b8bab368-84b1-430c-b8cc-d75cc7e900dd"
      },
      "source": [
        "def get_images(sample,predict):\n",
        "    channel = np.random.randint(7)\n",
        "    fig = plt.figure(figsize = (15,8))\n",
        "    ax = fig.add_subplot(1, 3, 1, xticks=[], yticks=[])    \n",
        "    plt.imshow(sample[\"image\"][0][2], cmap = \"gray\")\n",
        "    ax.set_title(\"Input image\")\n",
        "    ax = fig.add_subplot(1, 3, 2, xticks=[], yticks=[])\n",
        "    plt.imshow(sample[\"mask\"][0][channel].cpu().detach())\n",
        "    ax.set_title(\"True Mask\")\n",
        "    ax = fig.add_subplot(1, 3, 3, xticks=[], yticks=[])\n",
        "    plt.imshow(predict[0][channel].cpu().detach())\n",
        "    ax.set_title(\"Prediction\")"
      ],
      "id": "b8bab368-84b1-430c-b8cc-d75cc7e900dd",
      "execution_count": 20,
      "outputs": []
    },
    {
      "cell_type": "code",
      "source": [
        "for image in val_loader:\n",
        "    break\n",
        "pred = unet(image[\"image\"].cuda())"
      ],
      "metadata": {
        "id": "m3LJChdoDVUf"
      },
      "id": "m3LJChdoDVUf",
      "execution_count": 17,
      "outputs": []
    },
    {
      "cell_type": "code",
      "source": [
        "get_images(image,pred)"
      ],
      "metadata": {
        "colab": {
          "base_uri": "https://localhost:8080/",
          "height": 297
        },
        "id": "ksTgwfvJDzl5",
        "outputId": "d2cd3218-87e4-4051-8472-3979b8327f71"
      },
      "id": "ksTgwfvJDzl5",
      "execution_count": 21,
      "outputs": [
        {
          "output_type": "display_data",
          "data": {
            "text/plain": [
              "<Figure size 1080x576 with 3 Axes>"
            ],
            "image/png": "[encoded data removed]"
          },
          "metadata": {}
        }
      ]
    }
  ]
}